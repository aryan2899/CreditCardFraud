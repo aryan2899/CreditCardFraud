{
 "cells": [
  {
   "cell_type": "markdown",
   "id": "e71239c4",
   "metadata": {},
   "source": [
    "# Credit Card Fraud Detection"
   ]
  },
  {
   "cell_type": "markdown",
   "id": "0273843b",
   "metadata": {},
   "source": [
    "### <font color='Grey'> Project Outline "
   ]
  },
  {
   "cell_type": "markdown",
   "id": "626d8d4f",
   "metadata": {},
   "source": [
    "Detecting fraudulent credit card transactions is quite important and sometimes quite difficult to accurately to detect. This is a classifcation problem where a transaction can either be fraudulent or not, but due to the nature of the problem there is an imbalance between the classes of output because fraudulent transactions happen quite less frequently. The aim of this project is to create a model that is able to perform well with an unbalanced dataset"
   ]
  },
  {
   "cell_type": "markdown",
   "id": "71b36038",
   "metadata": {},
   "source": [
    "## <font color='Blue'>1. Dealing with unbalanced data</font>"
   ]
  },
  {
   "cell_type": "markdown",
   "id": "41b4ecdf",
   "metadata": {},
   "source": [
    "#### <font color='green'>1.1 Importing and Exploring Dataset</font>"
   ]
  },
  {
   "cell_type": "code",
   "execution_count": 41,
   "id": "60af5897",
   "metadata": {},
   "outputs": [],
   "source": [
    "import pandas as pd\n",
    "import numpy as np\n",
    "import matplotlib.pyplot as plt\n",
    "%matplotlib inline\n",
    "import seaborn as sns\n",
    "from sklearn.metrics import classification_report, confusion_matrix, f1_score"
   ]
  },
  {
   "cell_type": "code",
   "execution_count": 2,
   "id": "9234abd0",
   "metadata": {},
   "outputs": [
    {
     "data": {
      "text/html": [
       "<div>\n",
       "<style scoped>\n",
       "    .dataframe tbody tr th:only-of-type {\n",
       "        vertical-align: middle;\n",
       "    }\n",
       "\n",
       "    .dataframe tbody tr th {\n",
       "        vertical-align: top;\n",
       "    }\n",
       "\n",
       "    .dataframe thead th {\n",
       "        text-align: right;\n",
       "    }\n",
       "</style>\n",
       "<table border=\"1\" class=\"dataframe\">\n",
       "  <thead>\n",
       "    <tr style=\"text-align: right;\">\n",
       "      <th></th>\n",
       "      <th>Time</th>\n",
       "      <th>V1</th>\n",
       "      <th>V2</th>\n",
       "      <th>V3</th>\n",
       "      <th>V4</th>\n",
       "      <th>V5</th>\n",
       "      <th>V6</th>\n",
       "      <th>V7</th>\n",
       "      <th>V8</th>\n",
       "      <th>V9</th>\n",
       "      <th>...</th>\n",
       "      <th>V21</th>\n",
       "      <th>V22</th>\n",
       "      <th>V23</th>\n",
       "      <th>V24</th>\n",
       "      <th>V25</th>\n",
       "      <th>V26</th>\n",
       "      <th>V27</th>\n",
       "      <th>V28</th>\n",
       "      <th>Amount</th>\n",
       "      <th>Class</th>\n",
       "    </tr>\n",
       "  </thead>\n",
       "  <tbody>\n",
       "    <tr>\n",
       "      <th>0</th>\n",
       "      <td>0.0</td>\n",
       "      <td>-1.359807</td>\n",
       "      <td>-0.072781</td>\n",
       "      <td>2.536347</td>\n",
       "      <td>1.378155</td>\n",
       "      <td>-0.338321</td>\n",
       "      <td>0.462388</td>\n",
       "      <td>0.239599</td>\n",
       "      <td>0.098698</td>\n",
       "      <td>0.363787</td>\n",
       "      <td>...</td>\n",
       "      <td>-0.018307</td>\n",
       "      <td>0.277838</td>\n",
       "      <td>-0.110474</td>\n",
       "      <td>0.066928</td>\n",
       "      <td>0.128539</td>\n",
       "      <td>-0.189115</td>\n",
       "      <td>0.133558</td>\n",
       "      <td>-0.021053</td>\n",
       "      <td>149.62</td>\n",
       "      <td>0</td>\n",
       "    </tr>\n",
       "    <tr>\n",
       "      <th>1</th>\n",
       "      <td>0.0</td>\n",
       "      <td>1.191857</td>\n",
       "      <td>0.266151</td>\n",
       "      <td>0.166480</td>\n",
       "      <td>0.448154</td>\n",
       "      <td>0.060018</td>\n",
       "      <td>-0.082361</td>\n",
       "      <td>-0.078803</td>\n",
       "      <td>0.085102</td>\n",
       "      <td>-0.255425</td>\n",
       "      <td>...</td>\n",
       "      <td>-0.225775</td>\n",
       "      <td>-0.638672</td>\n",
       "      <td>0.101288</td>\n",
       "      <td>-0.339846</td>\n",
       "      <td>0.167170</td>\n",
       "      <td>0.125895</td>\n",
       "      <td>-0.008983</td>\n",
       "      <td>0.014724</td>\n",
       "      <td>2.69</td>\n",
       "      <td>0</td>\n",
       "    </tr>\n",
       "    <tr>\n",
       "      <th>2</th>\n",
       "      <td>1.0</td>\n",
       "      <td>-1.358354</td>\n",
       "      <td>-1.340163</td>\n",
       "      <td>1.773209</td>\n",
       "      <td>0.379780</td>\n",
       "      <td>-0.503198</td>\n",
       "      <td>1.800499</td>\n",
       "      <td>0.791461</td>\n",
       "      <td>0.247676</td>\n",
       "      <td>-1.514654</td>\n",
       "      <td>...</td>\n",
       "      <td>0.247998</td>\n",
       "      <td>0.771679</td>\n",
       "      <td>0.909412</td>\n",
       "      <td>-0.689281</td>\n",
       "      <td>-0.327642</td>\n",
       "      <td>-0.139097</td>\n",
       "      <td>-0.055353</td>\n",
       "      <td>-0.059752</td>\n",
       "      <td>378.66</td>\n",
       "      <td>0</td>\n",
       "    </tr>\n",
       "    <tr>\n",
       "      <th>3</th>\n",
       "      <td>1.0</td>\n",
       "      <td>-0.966272</td>\n",
       "      <td>-0.185226</td>\n",
       "      <td>1.792993</td>\n",
       "      <td>-0.863291</td>\n",
       "      <td>-0.010309</td>\n",
       "      <td>1.247203</td>\n",
       "      <td>0.237609</td>\n",
       "      <td>0.377436</td>\n",
       "      <td>-1.387024</td>\n",
       "      <td>...</td>\n",
       "      <td>-0.108300</td>\n",
       "      <td>0.005274</td>\n",
       "      <td>-0.190321</td>\n",
       "      <td>-1.175575</td>\n",
       "      <td>0.647376</td>\n",
       "      <td>-0.221929</td>\n",
       "      <td>0.062723</td>\n",
       "      <td>0.061458</td>\n",
       "      <td>123.50</td>\n",
       "      <td>0</td>\n",
       "    </tr>\n",
       "    <tr>\n",
       "      <th>4</th>\n",
       "      <td>2.0</td>\n",
       "      <td>-1.158233</td>\n",
       "      <td>0.877737</td>\n",
       "      <td>1.548718</td>\n",
       "      <td>0.403034</td>\n",
       "      <td>-0.407193</td>\n",
       "      <td>0.095921</td>\n",
       "      <td>0.592941</td>\n",
       "      <td>-0.270533</td>\n",
       "      <td>0.817739</td>\n",
       "      <td>...</td>\n",
       "      <td>-0.009431</td>\n",
       "      <td>0.798278</td>\n",
       "      <td>-0.137458</td>\n",
       "      <td>0.141267</td>\n",
       "      <td>-0.206010</td>\n",
       "      <td>0.502292</td>\n",
       "      <td>0.219422</td>\n",
       "      <td>0.215153</td>\n",
       "      <td>69.99</td>\n",
       "      <td>0</td>\n",
       "    </tr>\n",
       "  </tbody>\n",
       "</table>\n",
       "<p>5 rows × 31 columns</p>\n",
       "</div>"
      ],
      "text/plain": [
       "   Time        V1        V2        V3        V4        V5        V6        V7  \\\n",
       "0   0.0 -1.359807 -0.072781  2.536347  1.378155 -0.338321  0.462388  0.239599   \n",
       "1   0.0  1.191857  0.266151  0.166480  0.448154  0.060018 -0.082361 -0.078803   \n",
       "2   1.0 -1.358354 -1.340163  1.773209  0.379780 -0.503198  1.800499  0.791461   \n",
       "3   1.0 -0.966272 -0.185226  1.792993 -0.863291 -0.010309  1.247203  0.237609   \n",
       "4   2.0 -1.158233  0.877737  1.548718  0.403034 -0.407193  0.095921  0.592941   \n",
       "\n",
       "         V8        V9  ...       V21       V22       V23       V24       V25  \\\n",
       "0  0.098698  0.363787  ... -0.018307  0.277838 -0.110474  0.066928  0.128539   \n",
       "1  0.085102 -0.255425  ... -0.225775 -0.638672  0.101288 -0.339846  0.167170   \n",
       "2  0.247676 -1.514654  ...  0.247998  0.771679  0.909412 -0.689281 -0.327642   \n",
       "3  0.377436 -1.387024  ... -0.108300  0.005274 -0.190321 -1.175575  0.647376   \n",
       "4 -0.270533  0.817739  ... -0.009431  0.798278 -0.137458  0.141267 -0.206010   \n",
       "\n",
       "        V26       V27       V28  Amount  Class  \n",
       "0 -0.189115  0.133558 -0.021053  149.62      0  \n",
       "1  0.125895 -0.008983  0.014724    2.69      0  \n",
       "2 -0.139097 -0.055353 -0.059752  378.66      0  \n",
       "3 -0.221929  0.062723  0.061458  123.50      0  \n",
       "4  0.502292  0.219422  0.215153   69.99      0  \n",
       "\n",
       "[5 rows x 31 columns]"
      ]
     },
     "execution_count": 2,
     "metadata": {},
     "output_type": "execute_result"
    }
   ],
   "source": [
    "#importing dataset\n",
    "data = pd.read_csv('creditcard.csv')\n",
    "data.head()"
   ]
  },
  {
   "cell_type": "code",
   "execution_count": 3,
   "id": "14d56556",
   "metadata": {},
   "outputs": [
    {
     "name": "stdout",
     "output_type": "stream",
     "text": [
      "The data set has 284807 rows and 31 columns\n"
     ]
    }
   ],
   "source": [
    "#printing out dataset dimensions \n",
    "data_row = data.shape[0]\n",
    "data_col = data.shape[1]\n",
    "print('The data set has', data_row, 'rows and', data_col,'columns' )"
   ]
  },
  {
   "cell_type": "code",
   "execution_count": 4,
   "id": "68f4ad78",
   "metadata": {},
   "outputs": [],
   "source": [
    "#spltting independent and dependent variables\n",
    "X = data.drop(columns = ['Class'])\n",
    "y = data['Class']"
   ]
  },
  {
   "cell_type": "code",
   "execution_count": 5,
   "id": "a8c277af",
   "metadata": {},
   "outputs": [
    {
     "data": {
      "text/plain": [
       "<AxesSubplot:xlabel='Class', ylabel='count'>"
      ]
     },
     "execution_count": 5,
     "metadata": {},
     "output_type": "execute_result"
    },
    {
     "data": {
      "image/png": "[encoded data removed]",
      "text/plain": [
       "<Figure size 432x288 with 1 Axes>"
      ]
     },
     "metadata": {
      "needs_background": "light"
     },
     "output_type": "display_data"
    }
   ],
   "source": [
    "#checking imbalance in the output (y) class\n",
    "sns.countplot(x = data['Class'], data = data)"
   ]
  },
  {
   "cell_type": "code",
   "execution_count": 6,
   "id": "7ae75492",
   "metadata": {},
   "outputs": [
    {
     "data": {
      "text/plain": [
       "0    284315\n",
       "1       492\n",
       "Name: Class, dtype: int64"
      ]
     },
     "execution_count": 6,
     "metadata": {},
     "output_type": "execute_result"
    }
   ],
   "source": [
    "y.value_counts()"
   ]
  },
  {
   "cell_type": "markdown",
   "id": "4ff8e317",
   "metadata": {},
   "source": [
    "There is a very high imbalance between non-fraudulent (284315) and fraudulent (492) transactions. To deal with this many under-sampling and over-sampling techniques can be used."
   ]
  },
  {
   "cell_type": "markdown",
   "id": "bfbfb455",
   "metadata": {},
   "source": [
    "#### <font color='green'>1.2 Running Model on unbalanced dataset</font>"
   ]
  },
  {
   "cell_type": "code",
   "execution_count": 7,
   "id": "a53b0d15",
   "metadata": {},
   "outputs": [],
   "source": [
    "#importing model\n",
    "from sklearn.linear_model import LogisticRegression\n",
    "from sklearn.model_selection import cross_val_score"
   ]
  },
  {
   "cell_type": "code",
   "execution_count": 8,
   "id": "496e1591",
   "metadata": {},
   "outputs": [],
   "source": [
    "#creating instance of model\n",
    "log_reg = LogisticRegression(max_iter=10000)"
   ]
  },
  {
   "cell_type": "code",
   "execution_count": 9,
   "id": "7be73a62",
   "metadata": {},
   "outputs": [],
   "source": [
    "#running 4 fold cross validation using f1-score as scoring parameter\n",
    "unbalanced_score = cross_val_score(log_reg, X, y, scoring = 'f1', cv = 4)"
   ]
  },
  {
   "cell_type": "code",
   "execution_count": 10,
   "id": "3d3c7386",
   "metadata": {},
   "outputs": [
    {
     "name": "stdout",
     "output_type": "stream",
     "text": [
      "0.48715694388484393\n"
     ]
    }
   ],
   "source": [
    "#finding average f1-score\n",
    "print(unbalanced_score.mean())"
   ]
  },
  {
   "cell_type": "markdown",
   "id": "a1509be0",
   "metadata": {},
   "source": [
    "Running a model on the unbalanced dataset gives a very poor performance with an average f1-score of 0.55"
   ]
  },
  {
   "cell_type": "markdown",
   "id": "e35b5c98",
   "metadata": {},
   "source": [
    "#### <font color='green'>1.2 Undersampling</font>"
   ]
  },
  {
   "cell_type": "code",
   "execution_count": 11,
   "id": "83d4202c",
   "metadata": {},
   "outputs": [],
   "source": [
    "#importing and creating undersampler instance\n",
    "from imblearn.under_sampling import NearMiss\n",
    "nm = NearMiss()"
   ]
  },
  {
   "cell_type": "code",
   "execution_count": 12,
   "id": "96093aee",
   "metadata": {},
   "outputs": [],
   "source": [
    "#fitting data to undersample\n",
    "X_under, y_under = nm.fit_resample(X,y)"
   ]
  },
  {
   "cell_type": "code",
   "execution_count": 13,
   "id": "3e031f78",
   "metadata": {},
   "outputs": [
    {
     "name": "stdout",
     "output_type": "stream",
     "text": [
      "X originally had 284807 observations but now X has 984 observations\n"
     ]
    }
   ],
   "source": [
    "print('X originally had', X.shape[0], 'observations but now X has', X_under.shape[0],'observations')"
   ]
  },
  {
   "cell_type": "code",
   "execution_count": 14,
   "id": "82edd1ab",
   "metadata": {},
   "outputs": [
    {
     "name": "stdout",
     "output_type": "stream",
     "text": [
      "0    492\n",
      "1    492\n",
      "Name: Class, dtype: int64\n"
     ]
    }
   ],
   "source": [
    "print(y_under.value_counts())"
   ]
  },
  {
   "cell_type": "markdown",
   "id": "8304bd46",
   "metadata": {},
   "source": [
    "The data has been undersampled where both classes now have equal number of observations"
   ]
  },
  {
   "cell_type": "code",
   "execution_count": 15,
   "id": "568bfa56",
   "metadata": {},
   "outputs": [],
   "source": [
    "#running same model on undersampled dataset\n",
    "undersam_score = cross_val_score(log_reg, X_under, y_under, scoring = 'f1', cv = 4)"
   ]
  },
  {
   "cell_type": "code",
   "execution_count": 16,
   "id": "8d26aafd",
   "metadata": {},
   "outputs": [
    {
     "name": "stdout",
     "output_type": "stream",
     "text": [
      "0.9425217088026645\n"
     ]
    }
   ],
   "source": [
    "print(undersam_score.mean())"
   ]
  },
  {
   "cell_type": "markdown",
   "id": "361b2a32",
   "metadata": {},
   "source": [
    "Using undersampling gives a much better performance at an f-1 score of 0.94"
   ]
  },
  {
   "cell_type": "markdown",
   "id": "da148774",
   "metadata": {},
   "source": [
    "#### <font color='green'>1.3 Random Oversampling</font>"
   ]
  },
  {
   "cell_type": "code",
   "execution_count": 17,
   "id": "f381076c",
   "metadata": {},
   "outputs": [],
   "source": [
    "#importing and creating oversampler\n",
    "from imblearn.over_sampling import RandomOverSampler\n",
    "oversam = RandomOverSampler()"
   ]
  },
  {
   "cell_type": "code",
   "execution_count": 18,
   "id": "fd9826c0",
   "metadata": {},
   "outputs": [],
   "source": [
    "#oversampling the data\n",
    "X_over, y_over = oversam.fit_resample(X,y)"
   ]
  },
  {
   "cell_type": "code",
   "execution_count": 19,
   "id": "bfeb6e53",
   "metadata": {},
   "outputs": [
    {
     "name": "stdout",
     "output_type": "stream",
     "text": [
      "X originally had 284807 observations but now X has 568630 observations\n"
     ]
    }
   ],
   "source": [
    "print('X originally had', X.shape[0], 'observations but now X has', X_over.shape[0],'observations')"
   ]
  },
  {
   "cell_type": "code",
   "execution_count": 20,
   "id": "e6bfe809",
   "metadata": {},
   "outputs": [
    {
     "name": "stdout",
     "output_type": "stream",
     "text": [
      "0    284315\n",
      "1    284315\n",
      "Name: Class, dtype: int64\n"
     ]
    }
   ],
   "source": [
    "print(y_over.value_counts())"
   ]
  },
  {
   "cell_type": "markdown",
   "id": "45709e8e",
   "metadata": {},
   "source": [
    "The data has been oversampled where both classes now again have equal number of observations but this time the number of observations equal the majority class i.e. both classes equal to 284315 observations"
   ]
  },
  {
   "cell_type": "code",
   "execution_count": 21,
   "id": "45c6749e",
   "metadata": {},
   "outputs": [],
   "source": [
    "#running model on oversampled data\n",
    "oversam_score = cross_val_score(log_reg, X_over,y_over, scoring= 'f1', cv = 4)"
   ]
  },
  {
   "cell_type": "code",
   "execution_count": 22,
   "id": "3f8a4ca5",
   "metadata": {},
   "outputs": [
    {
     "name": "stdout",
     "output_type": "stream",
     "text": [
      "0.9196437979893116\n"
     ]
    }
   ],
   "source": [
    "#getting average f-1 score for random oversampling\n",
    "print(oversam_score.mean())"
   ]
  },
  {
   "cell_type": "markdown",
   "id": "55fc872a",
   "metadata": {},
   "source": [
    "Random oversampling has an average f1-score of 0.917 and performs much better than the imbalanced data but performs worse than undersampling"
   ]
  },
  {
   "cell_type": "markdown",
   "id": "1c993a43",
   "metadata": {},
   "source": [
    "#### <font color='green'>1.4 SMOTE</font>"
   ]
  },
  {
   "cell_type": "code",
   "execution_count": 23,
   "id": "21d98dcb",
   "metadata": {},
   "outputs": [],
   "source": [
    "#importing and creating SMOTE instance\n",
    "from imblearn.over_sampling import SMOTE\n",
    "smote = SMOTE()"
   ]
  },
  {
   "cell_type": "code",
   "execution_count": 24,
   "id": "86458a13",
   "metadata": {},
   "outputs": [],
   "source": [
    "#fitting data to SMOTE\n",
    "X_smote, y_smote = smote.fit_resample(X,y)"
   ]
  },
  {
   "cell_type": "code",
   "execution_count": 25,
   "id": "4166f295",
   "metadata": {},
   "outputs": [
    {
     "name": "stdout",
     "output_type": "stream",
     "text": [
      "X originally had 284807 observations but now X has 568630 observations\n"
     ]
    }
   ],
   "source": [
    "print('X originally had', X.shape[0], 'observations but now X has', X_smote.shape[0],'observations')"
   ]
  },
  {
   "cell_type": "code",
   "execution_count": 26,
   "id": "1f890b3b",
   "metadata": {},
   "outputs": [
    {
     "name": "stdout",
     "output_type": "stream",
     "text": [
      "0    284315\n",
      "1    284315\n",
      "Name: Class, dtype: int64\n"
     ]
    }
   ],
   "source": [
    "print(y_smote.value_counts())"
   ]
  },
  {
   "cell_type": "markdown",
   "id": "ce870f61",
   "metadata": {},
   "source": [
    "As SMOTE is also an oversampling technique the number of observations of the minority class is increased to match the number of observation of the majority class "
   ]
  },
  {
   "cell_type": "code",
   "execution_count": 27,
   "id": "76387e0a",
   "metadata": {},
   "outputs": [],
   "source": [
    "#running the model\n",
    "smote_score = cross_val_score(log_reg, X_smote,y_smote, scoring= 'f1', cv = 4)"
   ]
  },
  {
   "cell_type": "code",
   "execution_count": 28,
   "id": "4d7578ab",
   "metadata": {},
   "outputs": [
    {
     "name": "stdout",
     "output_type": "stream",
     "text": [
      "0.9675340350575334\n"
     ]
    }
   ],
   "source": [
    "#getting average f1-score\n",
    "print(smote_score.mean())"
   ]
  },
  {
   "cell_type": "markdown",
   "id": "ef110b32",
   "metadata": {},
   "source": [
    "Oversampling using SMOTE gives the best average f1-score at 0.966 beating both undersampling and Random oversampling"
   ]
  },
  {
   "cell_type": "markdown",
   "id": "e2aa8417",
   "metadata": {},
   "source": [
    "## <font color='Blue'>2. Modeling</font>"
   ]
  },
  {
   "cell_type": "markdown",
   "id": "deffa60d",
   "metadata": {},
   "source": [
    "Using SMOTE and 3 splits (validation, train and test) on mutiple classification models like Logistic Regression, Random Forest, SVM and xGBoost "
   ]
  },
  {
   "cell_type": "code",
   "execution_count": 29,
   "id": "d0e9f1e1",
   "metadata": {},
   "outputs": [],
   "source": [
    "#import and create data splits\n",
    "from sklearn.model_selection import train_test_split\n",
    "X_train, X_test, y_train, y_test = train_test_split(X, y, test_size=0.5, stratify=y)"
   ]
  },
  {
   "cell_type": "code",
   "execution_count": 30,
   "id": "8e53ed49",
   "metadata": {},
   "outputs": [
    {
     "name": "stdout",
     "output_type": "stream",
     "text": [
      "0    142158\n",
      "1       246\n",
      "Name: Class, dtype: int64\n",
      "0    142157\n",
      "1       246\n",
      "Name: Class, dtype: int64\n"
     ]
    }
   ],
   "source": [
    "print(y_test.value_counts())\n",
    "print(y_train.value_counts())"
   ]
  },
  {
   "cell_type": "markdown",
   "id": "b185e238",
   "metadata": {},
   "source": [
    "Both classes have equal number of the minority class (fraudulent transactions) "
   ]
  },
  {
   "cell_type": "code",
   "execution_count": 31,
   "id": "a34f6edc",
   "metadata": {},
   "outputs": [],
   "source": [
    "#applying SMOTE to train split\n",
    "X_train, y_train = smote.fit_resample(X_train, y_train)"
   ]
  },
  {
   "cell_type": "code",
   "execution_count": 32,
   "id": "dcad8f3f",
   "metadata": {},
   "outputs": [
    {
     "name": "stdout",
     "output_type": "stream",
     "text": [
      "0    142157\n",
      "1    142157\n",
      "Name: Class, dtype: int64\n"
     ]
    }
   ],
   "source": [
    "print(y_train.value_counts())"
   ]
  },
  {
   "cell_type": "markdown",
   "id": "3c7b7f7c",
   "metadata": {},
   "source": [
    "Oversampled validation split using SMOTE so that data is balanced across both classes"
   ]
  },
  {
   "cell_type": "markdown",
   "id": "fa9bc683",
   "metadata": {},
   "source": [
    "#### <font color='green'>2.2 Logistic Regression</font>"
   ]
  },
  {
   "cell_type": "code",
   "execution_count": 44,
   "id": "fa576f65",
   "metadata": {},
   "outputs": [],
   "source": [
    "#import model and create instance\n",
    "lr = LogisticRegression()"
   ]
  },
  {
   "cell_type": "code",
   "execution_count": 45,
   "id": "d3359710",
   "metadata": {},
   "outputs": [
    {
     "data": {
      "text/plain": [
       "LogisticRegression()"
      ]
     },
     "execution_count": 45,
     "metadata": {},
     "output_type": "execute_result"
    }
   ],
   "source": [
    "#fit training data to model\n",
    "lr.fit(X_train, y_train)"
   ]
  },
  {
   "cell_type": "code",
   "execution_count": 46,
   "id": "c8625c84",
   "metadata": {},
   "outputs": [],
   "source": [
    "#calculate y using X_test\n",
    "y_lr = lr.predict(X_test)"
   ]
  },
  {
   "cell_type": "code",
   "execution_count": 56,
   "id": "f0b19ba0",
   "metadata": {},
   "outputs": [
    {
     "name": "stdout",
     "output_type": "stream",
     "text": [
      "F1-score of LR is 0.08236615499812804\n",
      "              precision    recall  f1-score   support\n",
      "\n",
      "           0       1.00      0.97      0.98    142158\n",
      "           1       0.04      0.89      0.08       246\n",
      "\n",
      "    accuracy                           0.97    142404\n",
      "   macro avg       0.52      0.93      0.53    142404\n",
      "weighted avg       1.00      0.97      0.98    142404\n",
      "\n"
     ]
    }
   ],
   "source": [
    "#classification report, f1_score\n",
    "print('F1-score of LR is', f1_score(y_test,y_lr))\n",
    "print(classification_report(y_test, y_lr))"
   ]
  },
  {
   "cell_type": "code",
   "execution_count": 49,
   "id": "0b1dcc0d",
   "metadata": {},
   "outputs": [
    {
     "data": {
      "text/plain": [
       "<AxesSubplot:>"
      ]
     },
     "execution_count": 49,
     "metadata": {},
     "output_type": "execute_result"
    },
    {
     "data": {
      "image/png": "[encoded data removed]",
      "text/plain": [
       "<Figure size 432x288 with 2 Axes>"
      ]
     },
     "metadata": {
      "needs_background": "light"
     },
     "output_type": "display_data"
    }
   ],
   "source": [
    "#confusion matrix\n",
    "cf_matrix = confusion_matrix(y_test,y_lr)\n",
    "sns.heatmap(cf_matrix, annot=True, cmap='Blues')"
   ]
  },
  {
   "cell_type": "code",
   "execution_count": null,
   "id": "7a8194e1",
   "metadata": {},
   "outputs": [],
   "source": []
  },
  {
   "cell_type": "markdown",
   "id": "957d0277",
   "metadata": {},
   "source": [
    "#### <font color='green'>2.3 Random Forest Classifier</font>"
   ]
  },
  {
   "cell_type": "code",
   "execution_count": 35,
   "id": "9fff4b29",
   "metadata": {},
   "outputs": [],
   "source": [
    "#importing model and creating instance\n",
    "from sklearn.ensemble import RandomForestClassifier\n",
    "rf = RandomForestClassifier()"
   ]
  },
  {
   "cell_type": "code",
   "execution_count": 36,
   "id": "a48104a2",
   "metadata": {},
   "outputs": [
    {
     "data": {
      "text/plain": [
       "RandomForestClassifier()"
      ]
     },
     "execution_count": 36,
     "metadata": {},
     "output_type": "execute_result"
    }
   ],
   "source": [
    "#fit training data to model\n",
    "rf.fit(X_train, y_train)"
   ]
  },
  {
   "cell_type": "code",
   "execution_count": 38,
   "id": "996167d1",
   "metadata": {},
   "outputs": [],
   "source": [
    "#calculating y using fitted model\n",
    "y_rf = rf.predict(X_test)"
   ]
  },
  {
   "cell_type": "code",
   "execution_count": 42,
   "id": "ef765297",
   "metadata": {},
   "outputs": [
    {
     "name": "stdout",
     "output_type": "stream",
     "text": [
      "F1-score of RF is 0.8583333333333333\n",
      "              precision    recall  f1-score   support\n",
      "\n",
      "           0       1.00      1.00      1.00    142158\n",
      "           1       0.88      0.84      0.86       246\n",
      "\n",
      "    accuracy                           1.00    142404\n",
      "   macro avg       0.94      0.92      0.93    142404\n",
      "weighted avg       1.00      1.00      1.00    142404\n",
      "\n"
     ]
    }
   ],
   "source": [
    "#classification report, f1_score\n",
    "print('F1-score of RF is', f1_score(y_test,y_rf))\n",
    "print(classification_report(y_test, y_rf))"
   ]
  },
  {
   "cell_type": "code",
   "execution_count": 43,
   "id": "702f1d1c",
   "metadata": {},
   "outputs": [
    {
     "data": {
      "text/plain": [
       "<AxesSubplot:>"
      ]
     },
     "execution_count": 43,
     "metadata": {},
     "output_type": "execute_result"
    },
    {
     "data": {
      "image/png": "[encoded data removed]",
      "text/plain": [
       "<Figure size 432x288 with 2 Axes>"
      ]
     },
     "metadata": {
      "needs_background": "light"
     },
     "output_type": "display_data"
    }
   ],
   "source": [
    "#confusion matrix\n",
    "cf_matrix = confusion_matrix(y_test,y_rf)\n",
    "sns.heatmap(cf_matrix, annot=True, cmap='Blues')"
   ]
  },
  {
   "cell_type": "markdown",
   "id": "f20fe11d",
   "metadata": {},
   "source": [
    "#### <font color='green'>2.4 xGBoost Classifier</font>"
   ]
  },
  {
   "cell_type": "code",
   "execution_count": 50,
   "id": "a118b2c4",
   "metadata": {},
   "outputs": [],
   "source": [
    "#importing xgb classifier\n",
    "import xgboost as xgb\n",
    "xgbc = xgb.XGBClassifier()"
   ]
  },
  {
   "cell_type": "code",
   "execution_count": 51,
   "id": "d17c56a8",
   "metadata": {},
   "outputs": [
    {
     "data": {
      "text/plain": [
       "XGBClassifier(base_score=0.5, booster='gbtree', callbacks=None,\n",
       "              colsample_bylevel=1, colsample_bynode=1, colsample_bytree=1,\n",
       "              early_stopping_rounds=None, enable_categorical=False,\n",
       "              eval_metric=None, gamma=0, gpu_id=-1, grow_policy='depthwise',\n",
       "              importance_type=None, interaction_constraints='',\n",
       "              learning_rate=0.300000012, max_bin=256, max_cat_to_onehot=4,\n",
       "              max_delta_step=0, max_depth=6, max_leaves=0, min_child_weight=1,\n",
       "              missing=nan, monotone_constraints='()', n_estimators=100,\n",
       "              n_jobs=0, num_parallel_tree=1, predictor='auto', random_state=0,\n",
       "              reg_alpha=0, reg_lambda=1, ...)"
      ]
     },
     "execution_count": 51,
     "metadata": {},
     "output_type": "execute_result"
    }
   ],
   "source": [
    "#fitting data into model\n",
    "xgbc.fit(X_train,y_train)"
   ]
  },
  {
   "cell_type": "code",
   "execution_count": 52,
   "id": "9ffa1789",
   "metadata": {},
   "outputs": [],
   "source": [
    "#calculating y using fitted model\n",
    "y_xgb = xgbc.predict(X_test)"
   ]
  },
  {
   "cell_type": "code",
   "execution_count": 53,
   "id": "d91e6ae1",
   "metadata": {},
   "outputs": [
    {
     "name": "stdout",
     "output_type": "stream",
     "text": [
      "F1-score of XGB Classifier is 0.860082304526749\n",
      "              precision    recall  f1-score   support\n",
      "\n",
      "           0       1.00      1.00      1.00    142158\n",
      "           1       0.87      0.85      0.86       246\n",
      "\n",
      "    accuracy                           1.00    142404\n",
      "   macro avg       0.94      0.92      0.93    142404\n",
      "weighted avg       1.00      1.00      1.00    142404\n",
      "\n"
     ]
    }
   ],
   "source": [
    "#classification report, f1_score\n",
    "print('F1-score of XGB Classifier is', f1_score(y_test,y_xgb))\n",
    "print(classification_report(y_test, y_xgb))"
   ]
  },
  {
   "cell_type": "code",
   "execution_count": 55,
   "id": "e51e2e68",
   "metadata": {},
   "outputs": [
    {
     "data": {
      "text/plain": [
       "<AxesSubplot:>"
      ]
     },
     "execution_count": 55,
     "metadata": {},
     "output_type": "execute_result"
    },
    {
     "data": {
      "image/png": "[encoded data removed]",
      "text/plain": [
       "<Figure size 432x288 with 2 Axes>"
      ]
     },
     "metadata": {
      "needs_background": "light"
     },
     "output_type": "display_data"
    }
   ],
   "source": [
    "#confusion matrix\n",
    "cf_matrix = confusion_matrix(y_test,y_xgb)\n",
    "sns.heatmap(cf_matrix, annot=True, cmap='Blues')"
   ]
  },
  {
   "cell_type": "markdown",
   "id": "9899cefc",
   "metadata": {},
   "source": [
    "Logistic regression still has poor performance with an F1-score of just 0.08 but both Random Forest and XgBoost perform very well after training on SMOTE data with F1-score of 0.858 and 0.860 repectivelly "
   ]
  },
  {
   "cell_type": "code",
   "execution_count": null,
   "id": "6e09d181",
   "metadata": {},
   "outputs": [],
   "source": []
  }
 ],
 "metadata": {
  "kernelspec": {
   "display_name": "Python 3 (ipykernel)",
   "language": "python",
   "name": "python3"
  },
  "language_info": {
   "codemirror_mode": {
    "name": "ipython",
    "version": 3
   },
   "file_extension": ".py",
   "mimetype": "text/x-python",
   "name": "python",
   "nbconvert_exporter": "python",
   "pygments_lexer": "ipython3",
   "version": "3.9.7"
  }
 },
 "nbformat": 4,
 "nbformat_minor": 5
}
